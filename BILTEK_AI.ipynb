{
 "cells": [
  {
   "cell_type": "markdown",
   "id": "28a82db5-db54-481a-81dc-253fbcf9931c",
   "metadata": {},
   "source": [
    "What is NumPy?\n",
    "NumPy is a Python library that provides us to make scientifical computations.\n",
    "It has functions that aloows us to work in  the domain of linear algebra fourier transform, and matrices.\n",
    "ITt is prefered because it is a fast and easy way. It is very helpful especially in data science where resources and speed are very important.\n"
   ]
  },
  {
   "cell_type": "markdown",
   "id": "f1c31f1a-0c74-4eda-bf01-68bb49129d6b",
   "metadata": {},
   "source": [
    "First we have to import numpy as below and then we can use it.\n",
    "We can import it under np alias."
   ]
  },
  {
   "cell_type": "code",
   "execution_count": 5,
   "id": "9ca54011-bb13-487b-aaa5-13047d82384b",
   "metadata": {},
   "outputs": [
    {
     "name": "stdout",
     "output_type": "stream",
     "text": [
      "[1, 2, 3, 4, 5]\n"
     ]
    }
   ],
   "source": [
    "import numpy as np\n",
    "\n",
    "ar=([1,2,3,4,5])\n",
    "print(ar)"
   ]
  },
  {
   "cell_type": "markdown",
   "id": "6ca5e8b2-5fda-48a7-9664-84e6f0b8234b",
   "metadata": {},
   "source": [
    "DIMENSIONS IN ARRAYS:\n",
    "\n",
    "0-D Arrays: They are scalars. Each value in an array is a 0-D array.  \n",
    "1-D Arrays: These are the most used and basic array types. It has 0-D arrays as its elements.\n",
    "2-D Arrays: They are generally used for matrix and tensor demonstration. It has 1-D arrays as its elements.\n",
    "3-D Arrays: It has 2-D arrays as its elements."
   ]
  },
  {
   "cell_type": "markdown",
   "id": "75193918-a5a5-4f3f-8367-4c264c3119ca",
   "metadata": {},
   "source": [
    "NumPy arrays provide us to see how many dimension has an array as integer. We can use it as below: "
   ]
  },
  {
   "cell_type": "code",
   "execution_count": 6,
   "id": "00eaf0ae-eb18-4918-8d5a-7816107dd6fe",
   "metadata": {},
   "outputs": [
    {
     "name": "stdout",
     "output_type": "stream",
     "text": [
      "0\n",
      "1\n",
      "2\n",
      "3\n"
     ]
    }
   ],
   "source": [
    "import numpy as np\n",
    "\n",
    "x = np.array(10)\n",
    "y = np.array([1, 2, 3, 4, 5])\n",
    "z = np.array([[1, 2, 3], [4, 5, 6]])\n",
    "w = np.array([[[1, 2, 3], [4, 5, 6]], [[1, 2, 3], [4, 5, 6]]])\n",
    "\n",
    "print(x.ndim)\n",
    "print(y.ndim)\n",
    "print(z.ndim)\n",
    "print(w.ndim)"
   ]
  },
  {
   "cell_type": "markdown",
   "id": "8ef78b6d-24db-42d4-8851-48c05593b220",
   "metadata": {},
   "source": [
    "Accessing Array Elements: \n",
    "First we have to know the indexes starts from 0 in arrays. To access an index we have to enter elements indexes as below."
   ]
  },
  {
   "cell_type": "code",
   "execution_count": 9,
   "id": "c9063a9c-a33d-4e42-9fe7-54f197de9d3e",
   "metadata": {},
   "outputs": [
    {
     "name": "stdout",
     "output_type": "stream",
     "text": [
      "1\n"
     ]
    }
   ],
   "source": [
    "# Lets print a 1-D arrays element\n",
    "import numpy as np\n",
    "\n",
    "ar= np.array([0,1,2,3,4,5])\n",
    "print(ar[1])"
   ]
  },
  {
   "cell_type": "markdown",
   "id": "4595910c-3b19-4867-9c40-68ad40778a19",
   "metadata": {},
   "source": [
    "#Lets print a 2-D arrays element \n",
    "import numpy as np\n",
    "\n",
    "ar=np.array([[0,1,2],\n",
    "             [3,4,5]])\n",
    "print('3rd element on the 2nd row: ',ar[1,2])"
   ]
  },
  {
   "cell_type": "code",
   "execution_count": 17,
   "id": "6ed56513-7071-429c-9e0b-f95e9073babe",
   "metadata": {},
   "outputs": [
    {
     "name": "stdout",
     "output_type": "stream",
     "text": [
      "6\n"
     ]
    }
   ],
   "source": [
    "#Lets print a 3-D arrays element\n",
    "import numpy as np\n",
    "\n",
    "arr = np.array([[[1, 2, 3], [4, 5, 6]], [[7, 8, 9], [10, 11, 12]]])\n",
    "\n",
    "print(arr[0, 1, 2])"
   ]
  },
  {
   "cell_type": "markdown",
   "id": "ecc53fc4-cacc-4efa-ae82-968161d3cce1",
   "metadata": {},
   "source": [
    "Negative Indexing: It aloows us to reach the element from the end. Last elements index is -1 and from right to left it goes like -1,-2,-3..."
   ]
  },
  {
   "cell_type": "code",
   "execution_count": 20,
   "id": "8c3b68d7-d4ef-41b3-ad8b-f263ec096feb",
   "metadata": {},
   "outputs": [
    {
     "name": "stdout",
     "output_type": "stream",
     "text": [
      "Last element from right at 2nd row is:  5\n"
     ]
    }
   ],
   "source": [
    "import numpy as np\n",
    "\n",
    "ar=np.array([[1,2,3,4,5],\n",
    "             [6,7,8,9,10]])\n",
    "print('Last element from right at 2nd row is: ',ar[0,-1])\n",
    "#We first enter the row and then when we enter '-1' it returns the last element of the chosen row."
   ]
  },
  {
   "cell_type": "markdown",
   "id": "948bf667-2b7a-413d-98f2-b2f7e2ed63d4",
   "metadata": {},
   "source": [
    "Slicing Arrays: It allows us to take elements from a given index to another given index.\n",
    "                We can use [start:end] for slicing.\n",
    "                We can also define the step like [start:end:step].\n",
    "                If we don't pass step it it considered 1.\n",
    "                If we don't pass end it is considered length of array in that dimension.\n",
    "                If we don!t pass start it is considered 0.\n",
    "                !! Start index is included but end index is not!!"
   ]
  },
  {
   "cell_type": "code",
   "execution_count": null,
   "id": "c17d866a-c5d7-49e8-b0e4-3b1ec2acdf31",
   "metadata": {},
   "outputs": [],
   "source": [
    "import numpy as np\n",
    "\n",
    "ar1=np.array([1,2,3,4,5,6,7,8,9])\n",
    "print(ar1[2:5])\n",
    "\n",
    "ar2=np.array([1,2,3,4,5,6,7,8,9])\n",
    "print(ar2[2:])\n",
    "\n",
    "ar3=np.array([1,2,3,4,5,6,7,8,9])\n",
    "print(ar3[:5])\n",
    "\n",
    "ar4=np.array(['a','b','c','d','e','f','g','h'])\n",
    "print(ar4[1:7:2])\n",
    "\n",
    "ar5=np.array([1,2,3,4,5,6,7,8,9])\n",
    "print(ar5[::2])\n",
    "#It prints every second element starting from index 0.\n",
    "\n",
    "ar6=np.array([1,2,3,4,5,6,7,8,9])\n",
    "print(ar6[-5:-2])\n",
    "\n",
    "ar7 = np.array([[1, 2, 3, 4],\n",
    "                 [5, 6, 7, 8],\n",
    "                 [9, 10, 11, 12]])\n",
    "print(ar7[1:, 2:])\n",
    "\n",
    "\n"
   ]
  },
  {
   "cell_type": "code",
   "execution_count": 6,
   "id": "0afd8f87-16dd-4d63-aff6-c225efa5640d",
   "metadata": {},
   "outputs": [
    {
     "name": "stdout",
     "output_type": "stream",
     "text": [
      "int32\n",
      "<U10\n",
      "[1 2 3 4]\n",
      "int64\n",
      "[1.1 2.2 3.3 4.4]\n",
      "float32\n",
      "[3 4 5]\n",
      "int32\n",
      "[False  True  True  True]\n",
      "bool\n"
     ]
    }
   ],
   "source": [
    "#Data Types \n",
    "import numpy as np\n",
    "\n",
    "ar1 = np.array([1,2,3,4])\n",
    "print(ar1.dtype)\n",
    "\n",
    "ar2 = np.array(['apple','banana','cantaloupe'])\n",
    "print(ar2.dtype)\n",
    "\n",
    "#We can create arrays with defined data types.\n",
    "\n",
    "import numpy as np\n",
    "\n",
    "ar3 = np.array([1.1, 2.2, 3.3, 4.4],dtype='int64')\n",
    "print(ar3)\n",
    "print(ar3.dtype)\n",
    "\n",
    "#For i, u, f, S and U we can define size as well.\n",
    "\n",
    "ar4 = np.array([1.1, 2.2, 3.3, 4.4],dtype='f4')\n",
    "print(ar4)\n",
    "print(ar4.dtype)\n",
    "\n",
    "#Converting Data Type on Existing Arrays\n",
    "\n",
    "ar5 = np.array([3.3, 4.4, 5.5])\n",
    "newar=ar5.astype('i')\n",
    "print(newar)\n",
    "print(newar.dtype)\n",
    "\n",
    "ar6 = np.array([0,1,2,-12])\n",
    "newar2=ar6.astype('bool')\n",
    "print(newar2)\n",
    "print(newar2.dtype)     #It only gives false if number is zero.\n",
    "\n"
   ]
  },
  {
   "cell_type": "code",
   "execution_count": 9,
   "id": "e8d3efd6-0388-4371-9e06-b4d20ca1d48f",
   "metadata": {
    "scrolled": true
   },
   "outputs": [
    {
     "name": "stdout",
     "output_type": "stream",
     "text": [
      "[1 2 3 4 5]\n",
      "[1 2 0 4 5]\n",
      "[1 2 9 4 5]\n",
      "[1 2 0 4 5]\n",
      "[1 2 9 4 5]\n",
      "None\n",
      "[1 2 3 4 5 6 7]\n"
     ]
    }
   ],
   "source": [
    "# Copy and View\n",
    "# The main difference is between copy and view is copy is a new array and view just gets reference of another array. \n",
    "# Copy owns the data and if we make changes on copy it will not affect the original array.\n",
    "# View doesn't own the data and if we make changes on view it will affect the original array.\n",
    "import numpy as np\n",
    "\n",
    "ar = np.array([1,2,3,4,5])\n",
    "x=ar.copy()\n",
    "x[2]=0\n",
    "print(ar)\n",
    "print(x)\n",
    "y=ar.view()\n",
    "y[2]=9\n",
    "print(ar)\n",
    "print(x)\n",
    "print(y)\n",
    "\n",
    "#Checking if Array Owns Its Data\n",
    "# If copied it will return 'none' because it isn't referenced any other array \n",
    "# If viewed it will return the array which getting referenced\n",
    "\n",
    "ar2 = np.array([1,2,3,4,5,6,7])\n",
    "a=ar2.copy()\n",
    "b=ar2.view()\n",
    "print(a.base)\n",
    "print(b.base)"
   ]
  },
  {
   "cell_type": "code",
   "execution_count": 15,
   "id": "6f300a07-9fc6-4670-8ad8-ec5553211dba",
   "metadata": {},
   "outputs": [
    {
     "name": "stdout",
     "output_type": "stream",
     "text": [
      "(7,)\n",
      "(2, 4)\n",
      "(1, 1, 1, 1, 1, 5)\n"
     ]
    }
   ],
   "source": [
    "# Shape of an array\n",
    "\n",
    "import numpy as np\n",
    "\n",
    "ar1=np.array([1,2,3,4,5,6,7])\n",
    "print(ar1.shape)\n",
    "\n",
    "ar2=np.array([[1,2,3,4],[5,6,7,8]])\n",
    "print(ar2.shape)\n",
    "\n",
    "ar3=np.array([1,2,3,4,5],ndmin=6)\n",
    "print(ar3.shape)\n"
   ]
  },
  {
   "cell_type": "code",
   "execution_count": 29,
   "id": "ce27f06b-8ebf-4233-825e-bf29a5f7d8cf",
   "metadata": {},
   "outputs": [
    {
     "name": "stdout",
     "output_type": "stream",
     "text": [
      "[[ 1  2  3]\n",
      " [ 4  5  6]\n",
      " [ 7  8  9]\n",
      " [10 11 12]]\n",
      "\n",
      "[[[ 1  2]\n",
      "  [ 3  4]\n",
      "  [ 5  6]]\n",
      "\n",
      " [[ 7  8]\n",
      "  [ 9 10]\n",
      "  [11 12]]]\n",
      "\n",
      "[ 1  2  3  4  5  6  7  8  9 10 11 12]\n",
      "\n",
      "[[[ 1  2]\n",
      "  [ 3  4]\n",
      "  [ 5  6]]\n",
      "\n",
      " [[ 7  8]\n",
      "  [ 9 10]\n",
      "  [11 12]]]\n",
      "\n",
      "[1 2 3 4 5 6 7 8]\n"
     ]
    }
   ],
   "source": [
    "# Reshaping Arrays\n",
    "\n",
    "import numpy as np\n",
    "ar1 = np.array([1, 2, 3, 4, 5, 6, 7, 8, 9, 10, 11, 12])\n",
    "newar1 = ar1.reshape(4,3)\n",
    "print(newar1)\n",
    "\n",
    "print(          )\n",
    "\n",
    "newar2 = ar1.reshape(2,3,2) \n",
    "#burada ilk değer kaç arrayden oluştuğunu gösteriyor, 2. değer her arrayin satır sayısı, 3. değer her arrayin sütun sayısı\n",
    "print(newar2)\n",
    "\n",
    "print(           )\n",
    "#Returns are views\n",
    "print(ar1.reshape(3,4).base)\n",
    "\n",
    "print(          )\n",
    "# Unknown Dimension - You don't have to specify the exact number to reshape\n",
    "\n",
    "newar3=ar1.reshape(2,3,-1)\n",
    "print(newar3)\n",
    "\n",
    "print(            )\n",
    "# Flattening the Arrays\n",
    "ar2=np.array([[1,2,3,4],[5,6,7,8]])\n",
    "x=ar2.reshape(-1)\n",
    "print(x)"
   ]
  },
  {
   "cell_type": "code",
   "execution_count": 30,
   "id": "3d8d6bee-54ea-4090-92e8-996bcd8de4b4",
   "metadata": {},
   "outputs": [
    {
     "ename": "SyntaxError",
     "evalue": "invalid syntax (4244084886.py, line 1)",
     "output_type": "error",
     "traceback": [
      "\u001b[1;36m  Cell \u001b[1;32mIn[30], line 1\u001b[1;36m\u001b[0m\n\u001b[1;33m    op_dtypes????????????????\u001b[0m\n\u001b[1;37m             ^\u001b[0m\n\u001b[1;31mSyntaxError\u001b[0m\u001b[1;31m:\u001b[0m invalid syntax\n"
     ]
    }
   ],
   "source": [
    "op_dtypes????????????????"
   ]
  },
  {
   "cell_type": "code",
   "execution_count": 37,
   "id": "c27fc675-4519-492a-9d86-81ba24927c70",
   "metadata": {},
   "outputs": [
    {
     "name": "stdout",
     "output_type": "stream",
     "text": [
      "[[1 2 3]\n",
      " [4 5 6]]\n"
     ]
    }
   ],
   "source": [
    "# Joining Arrays\n",
    "\n",
    "import numpy as np\n",
    "\n",
    "ar1 = np.array([1,2,3])\n",
    "ar2 = np.array([4,5,6])\n",
    "arr = np.stack((ar1,ar2))\n",
    "print(arr)"
   ]
  },
  {
   "cell_type": "code",
   "execution_count": null,
   "id": "a91098f9-4237-4f93-ad39-fa64710b5812",
   "metadata": {},
   "outputs": [],
   "source": []
  }
 ],
 "metadata": {
  "kernelspec": {
   "display_name": "Python 3 (ipykernel)",
   "language": "python",
   "name": "python3"
  },
  "language_info": {
   "codemirror_mode": {
    "name": "ipython",
    "version": 3
   },
   "file_extension": ".py",
   "mimetype": "text/x-python",
   "name": "python",
   "nbconvert_exporter": "python",
   "pygments_lexer": "ipython3",
   "version": "3.11.7"
  }
 },
 "nbformat": 4,
 "nbformat_minor": 5
}
